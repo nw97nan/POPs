{
 "cells": [
  {
   "cell_type": "code",
   "execution_count": 2,
   "metadata": {},
   "outputs": [],
   "source": [
    "import POPs\n",
    "import os\n",
    "import multiprocessing\n",
    "import numpy as np\n",
    "import pandas as pd\n",
    "import plotly.figure_factory as ff\n",
    "import plotly.graph_objects as go\n",
    "import math"
   ]
  },
  {
   "cell_type": "code",
   "execution_count": 3,
   "metadata": {
    "scrolled": true
   },
   "outputs": [
    {
     "name": "stdout",
     "output_type": "stream",
     "text": [
      "The source residues are ['GNP528 A'].\n"
     ]
    },
    {
     "name": "stderr",
     "output_type": "stream",
     "text": [
      "/opt/anaconda3/lib/python3.8/site-packages/Bio/PDB/PDBParser.py:395: PDBConstructionWarning: Ignoring unrecognized record 'END' at line 3273\n",
      "  warnings.warn(\n"
     ]
    }
   ],
   "source": [
    "owd = os.getcwd()\n",
    "session = 'sessionIZNY1I'\n",
    "\n",
    "source_residues = [('528', 'A')]\n",
    "allo_ligs = [('719', 'A'), ('169', 'A')]\n",
    "\n",
    "pdb_file = f'{session}/{session}_modified.pdb'\n",
    "bond_file = f'{session}/{session}_graph_bonds.csv'\n",
    "bond_results_file = f'{session}/{session}_propensity_bonds.csv'\n",
    "\n",
    "pathway = POPs.PropOptPaths(pdb_file, source_residues, allo_ligs, bond_file, bond_results_file)\n",
    "\n",
    "source = pathway.site_format(source_residues)\n",
    "allo = pathway.site_format(allo_ligs) \n",
    "print(f'The source residues are {source}.')"
   ]
  },
  {
   "cell_type": "code",
   "execution_count": 4,
   "metadata": {
    "scrolled": true
   },
   "outputs": [],
   "source": [
    "# pathway.bonded_residues(source, \n",
    "#                         [qs filter to choose bonds with certain qs], \n",
    "#                         [chain filter to choose bonds with certain chain])\n",
    "act_site = pathway.bonded_residues(source, [0, 1], [])\n",
    "allo_site = pathway.bonded_residues(pathway.site_format(allo_ligs), [0, 1], [])"
   ]
  },
  {
   "cell_type": "code",
   "execution_count": 5,
   "metadata": {
    "scrolled": false
   },
   "outputs": [
    {
     "name": "stdout",
     "output_type": "stream",
     "text": [
      "Calculation finished for VAL14 A as the starting residue.\n",
      "Calculation finished for GLY15 A as the starting residue.\n",
      "Calculation finished for LYS16 A as the starting residue.\n",
      "Calculation finished for ASP30 A as the starting residue.\n",
      "Calculation finished for TYR32 A as the starting residue.\n",
      "Calculation finished for ASP33 A as the starting residue.\n",
      "Calculation finished for SER145 A as the starting residue.\n",
      "Calculation finished for ALA146 A as the starting residue.\n",
      "Calculation finished for LYS147 A as the starting residue.\n"
     ]
    }
   ],
   "source": [
    "# pathway.calculate_qs_path(prefix given to the file, \n",
    "#                           [any chain you want to ignore] e.g. ['B', 'C'], \n",
    "#                           act_site, allo_site)\n",
    "POP_results_folder = f'{owd}/sessionIZNY1I_pathway_analysis/'\n",
    "os.mkdir(POP_results_folder)\n",
    "os.chdir(POP_results_folder)\n",
    "with multiprocessing.Pool(processes = 2) as pool:\n",
    "    pool.starmap(pathway.calculate_POP, [(session, [], _, allo_site) for _ in act_site])\n",
    "\n",
    "pathway.plot_heatmap(act_site, allo_site, POP_results_folder)"
   ]
  },
  {
   "cell_type": "code",
   "execution_count": 8,
   "metadata": {
    "scrolled": true
   },
   "outputs": [
    {
     "name": "stdout",
     "output_type": "stream",
     "text": [
      "This is the removed residue THR2 A.\n",
      "Calculation finished for VAL14 A as the staring residue.\n",
      "Calculation finished for GLY15 A as the staring residue.\n",
      "Calculation finished for LYS16 A as the staring residue.\n",
      "Calculation finished for SER17 A as the staring residue.\n",
      "Calculation finished for ALA18 A as the staring residue.\n",
      "Calculation finished for VAL29 A as the staring residue.\n",
      "Calculation finished for ASP30 A as the staring residue.\n",
      "Calculation finished for TYR32 A as the staring residue.\n",
      "Calculation finished for ASP33 A as the staring residue.\n",
      "Calculation finished for THR35 A as the staring residue.\n",
      "Calculation finished for GLY60 A as the staring residue.\n",
      "Calculation finished for GLN61 A as the staring residue.\n",
      "Calculation finished for ASN116 A as the staring residue.\n",
      "Calculation finished for LYS117 A as the staring residue.\n",
      "Calculation finished for ASP119 A as the staring residue.\n",
      "Calculation finished for SER145 A as the staring residue.\n",
      "Calculation finished for ALA146 A as the staring residue.\n",
      "Calculation finished for LYS147 A as the staring residue.\n",
      "Calculation finished for HOH172 A as the staring residue.\n",
      "Calculation finished for HOH175 A as the staring residue.\n",
      "Calculation finished for HOH189 A as the staring residue.\n",
      "This is the removed residue TYR4 A.\n",
      "Calculation finished for VAL14 A as the staring residue.\n",
      "Calculation finished for GLY15 A as the staring residue.\n",
      "Calculation finished for LYS16 A as the staring residue.\n",
      "Calculation finished for SER17 A as the staring residue.\n",
      "Calculation finished for ALA18 A as the staring residue.\n",
      "Calculation finished for VAL29 A as the staring residue.\n",
      "Calculation finished for ASP30 A as the staring residue.\n",
      "Calculation finished for TYR32 A as the staring residue.\n",
      "Calculation finished for ASP33 A as the staring residue.\n",
      "Calculation finished for THR35 A as the staring residue.\n",
      "Calculation finished for GLY60 A as the staring residue.\n",
      "Calculation finished for GLN61 A as the staring residue.\n",
      "Calculation finished for ASN116 A as the staring residue.\n",
      "Calculation finished for LYS117 A as the staring residue.\n",
      "Calculation finished for ASP119 A as the staring residue.\n",
      "Calculation finished for SER145 A as the staring residue.\n",
      "Calculation finished for ALA146 A as the staring residue.\n",
      "Calculation finished for LYS147 A as the staring residue.\n",
      "Calculation finished for HOH172 A as the staring residue.\n",
      "Calculation finished for HOH175 A as the staring residue.\n",
      "Calculation finished for HOH189 A as the staring residue.\n"
     ]
    }
   ],
   "source": [
    "impt_res_results_dir = f'{owd}/{session}_impt_res'\n",
    "os.mkdir(impt_res_results_dir)\n",
    "\n",
    "res_list = [_.split(' ')[0] + _.split(' ')[1] + ' ' + _.split(' ')[2] for _ in pathway.res_list_no_lig]\n",
    "res_to_remove = [i for i in res_list if i not in act_site and i not in allo_site]\n",
    "chains_to_remove = ['A']\n",
    "chain_filter = []\n",
    "selected_removed_res = []\n",
    "for i in chains_to_remove:\n",
    "    selected_removed_res = selected_removed_res + [removed for removed in res_to_remove if removed.endswith(i)]\n",
    "with multiprocessing.Pool(processes = 2) as pool:\n",
    "    pool.starmap(pathway.calculate_characteristic_path, \n",
    "                 [(session, _, act_site, allo_site, chain_filter, impt_res_results_dir) for _ in selected_removed_res[:5]])"
   ]
  },
  {
   "cell_type": "code",
   "execution_count": null,
   "metadata": {},
   "outputs": [],
   "source": []
  }
 ],
 "metadata": {
  "kernelspec": {
   "display_name": "Python 3 (ipykernel)",
   "language": "python",
   "name": "python3"
  },
  "language_info": {
   "codemirror_mode": {
    "name": "ipython",
    "version": 3
   },
   "file_extension": ".py",
   "mimetype": "text/x-python",
   "name": "python",
   "nbconvert_exporter": "python",
   "pygments_lexer": "ipython3",
   "version": "3.8.13"
  }
 },
 "nbformat": 4,
 "nbformat_minor": 4
}
