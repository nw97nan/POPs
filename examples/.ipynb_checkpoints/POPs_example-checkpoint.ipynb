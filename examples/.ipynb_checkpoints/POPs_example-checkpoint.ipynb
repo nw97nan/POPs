{
 "cells": [
  {
   "cell_type": "markdown",
   "metadata": {},
   "source": [
    "## This is an example using h-Ras (PDB ID: 3K8Y) for POPs computation.\n",
    "- Bond-to-bond propensity analysis results: sessionIZNY1I (from https://proteinlens.io/webserver/25897c9d-f41b-4b5a-be97-3d62a948d328/results/383e647b-da1e-488d-a580-86379be090f0)\n",
    "- Source residue: GNP A528\n",
    "- Allosteric ligand: Calcium acetate A169, A719"
   ]
  },
  {
   "cell_type": "code",
   "execution_count": null,
   "metadata": {},
   "outputs": [],
   "source": [
    "import POPs\n",
    "import os\n",
    "import multiprocessing\n",
    "import numpy as np\n",
    "import pandas as pd\n",
    "import plotly.figure_factory as ff\n",
    "import plotly.graph_objects as go"
   ]
  },
  {
   "cell_type": "code",
   "execution_count": null,
   "metadata": {
    "scrolled": true
   },
   "outputs": [],
   "source": [
    "owd = os.getcwd()\n",
    "session = 'sessionIZNY1I'\n",
    "\n",
    "# the residue should be in the following format [('residues number', 'chain')]\n",
    "source_residues = [('528', 'A')] # this should match the source you used in bond-to-bond propensity analysis\n",
    "allo_ligs = [('719', 'A'), ('169', 'A')] # this could be an empty list if no ligand is present\n",
    "\n",
    "pdb_file = f'{session}/{session}_modified.pdb'\n",
    "bond_file = f'{session}/{session}_graph_bonds.csv'\n",
    "bond_results_file = f'{session}/{session}_propensity_bonds.csv'\n",
    "\n",
    "pathway = POPs.PropOptPaths(pdb_file, source_residues, allo_ligs, bond_file, bond_results_file)\n",
    "\n",
    "# to define starting residues (e.g. active site) and targeting residues (e.g. allosteric site) for POPs\n",
    "source = pathway.site_format(source_residues)\n",
    "target = pathway.site_format(allo_ligs)\n",
    "\n",
    "# pathway.bonded_residues(residue of interest, \n",
    "#                         [qs filter to choose bonds with certain qs (set as 0~1 here)], \n",
    "#                         [chain filter to ignore certain chain (empty list means all chains are considered])\n",
    "act_site = pathway.bonded_residues(source, [0, 1], [])\n",
    "allo_site = pathway.bonded_residues(target, [0, 1], [])"
   ]
  },
  {
   "cell_type": "markdown",
   "metadata": {},
   "source": [
    "## POPs computation"
   ]
  },
  {
   "cell_type": "code",
   "execution_count": null,
   "metadata": {
    "scrolled": false
   },
   "outputs": [],
   "source": [
    "# pathway.calculate_POP(prefix given to the file (filename), \n",
    "#                       [any chain you want to ignore] e.g. ['B', 'C'], \n",
    "#                       act_site_residue, allo_site)\n",
    "POP_results_folder = f'{owd}/sessionIZNY1I_pathway_analysis/'\n",
    "os.mkdir(POP_results_folder)\n",
    "os.chdir(POP_results_folder)\n",
    "with multiprocessing.Pool(processes = 2) as pool:\n",
    "    pool.starmap(pathway.calculate_POP, [(session, [], _, allo_site) for _ in act_site])\n",
    "\n",
    "# the heatmap similar to Figure 1(a) in the paper is saved in the results folder\n",
    "pathway.plot_heatmap(act_site, allo_site, POP_results_folder)"
   ]
  },
  {
   "cell_type": "markdown",
   "metadata": {},
   "source": [
    "## Determination of key signalling residues with residue removal"
   ]
  },
  {
   "cell_type": "code",
   "execution_count": null,
   "metadata": {
    "scrolled": true
   },
   "outputs": [],
   "source": [
    "impt_res_results_dir = f'{owd}/{session}_impt_res'\n",
    "os.mkdir(impt_res_results_dir)\n",
    "\n",
    "# res_list contains all natural residues in the protein\n",
    "res_list = [_.split(' ')[0] + _.split(' ')[1] + ' ' + _.split(' ')[2] for _ in pathway.res_list_no_lig]\n",
    "# residues other than active and allosteric site residues will be removed\n",
    "res_to_remove = [i for i in res_list if i not in act_site and i not in allo_site]\n",
    "chains_to_remove = ['A']\n",
    "chain_filter = [] # any chain to ignore during the computation\n",
    "selected_removed_res = []\n",
    "for i in chains_to_remove:\n",
    "    selected_removed_res = selected_removed_res + [removed for removed in res_to_remove if removed.endswith(i)]\n",
    "with multiprocessing.Pool(processes = 2) as pool:\n",
    "    pool.starmap(pathway.calculate_characteristic_path, \n",
    "                 [(session, _, act_site, allo_site, chain_filter, impt_res_results_dir) for _ in selected_removed_res[:5]])"
   ]
  },
  {
   "cell_type": "code",
   "execution_count": null,
   "metadata": {},
   "outputs": [],
   "source": []
  }
 ],
 "metadata": {
  "kernelspec": {
   "display_name": "Python 3 (ipykernel)",
   "language": "python",
   "name": "python3"
  },
  "language_info": {
   "codemirror_mode": {
    "name": "ipython",
    "version": 3
   },
   "file_extension": ".py",
   "mimetype": "text/x-python",
   "name": "python",
   "nbconvert_exporter": "python",
   "pygments_lexer": "ipython3",
   "version": "3.8.13"
  }
 },
 "nbformat": 4,
 "nbformat_minor": 4
}
